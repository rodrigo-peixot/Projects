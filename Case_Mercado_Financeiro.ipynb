{
  "nbformat": 4,
  "nbformat_minor": 0,
  "metadata": {
    "colab": {
      "name": "Case Mercado Financeiro.ipynb",
      "provenance": [],
      "authorship_tag": "ABX9TyMoZUETXS+Bw5JOHLC+iDvm",
      "include_colab_link": true
    },
    "kernelspec": {
      "name": "python3",
      "display_name": "Python 3"
    },
    "language_info": {
      "name": "python"
    }
  },
  "cells": [
    {
      "cell_type": "markdown",
      "metadata": {
        "id": "view-in-github",
        "colab_type": "text"
      },
      "source": [
        "<a href=\"https://colab.research.google.com/github/rodrigo-peixot/Projects/blob/main/Case_Mercado_Financeiro.ipynb\" target=\"_parent\"><img src=\"https://colab.research.google.com/assets/colab-badge.svg\" alt=\"Open In Colab\"/></a>"
      ]
    },
    {
      "cell_type": "code",
      "execution_count": 1,
      "metadata": {
        "id": "d_XaiNmm7TOa"
      },
      "outputs": [],
      "source": [
        "import numpy as np\n",
        "import pandas as pd\n",
        "import matplotlib.pyplot as plt\n",
        "import seaborn as sns\n",
        "import plotly.graph_objects as go\n",
        "import warnings\n",
        "warnings.filterwarnings('ignore')"
      ]
    },
    {
      "cell_type": "code",
      "source": [
        "df = pd.read_csv('/content/Vase_004 - Magalu - Sem Resolução.xlsx - Tab_Dados.csv')\n",
        "\n",
        "df.head()"
      ],
      "metadata": {
        "colab": {
          "base_uri": "https://localhost:8080/",
          "height": 206
        },
        "id": "YXmhKOYZCZpF",
        "outputId": "593041d1-2e5c-4912-c883-7eefde16f8ef"
      },
      "execution_count": 84,
      "outputs": [
        {
          "output_type": "execute_result",
          "data": {
            "text/plain": [
              "       Data  Maior  Menor Abertura Fechamento      Volume Adj Close\n",
              "0  1/4/2021  25,58  24,87    25,26      25,20  25.706.100     25,18\n",
              "1  1/5/2021  25,18  24,34    25,10      24,76  25.431.900     24,74\n",
              "2  1/6/2021  24,66  23,42    24,65      23,46  51.799.000     23,44\n",
              "3  1/7/2021  23,85  22,95    23,64      23,16  42.146.600     23,14\n",
              "4  1/8/2021  24,30  23,02    23,19      23,84  43.988.100     23,82"
            ],
            "text/html": [
              "\n",
              "  <div id=\"df-7b870ced-7169-49e2-b5dd-6990bf9d6585\">\n",
              "    <div class=\"colab-df-container\">\n",
              "      <div>\n",
              "<style scoped>\n",
              "    .dataframe tbody tr th:only-of-type {\n",
              "        vertical-align: middle;\n",
              "    }\n",
              "\n",
              "    .dataframe tbody tr th {\n",
              "        vertical-align: top;\n",
              "    }\n",
              "\n",
              "    .dataframe thead th {\n",
              "        text-align: right;\n",
              "    }\n",
              "</style>\n",
              "<table border=\"1\" class=\"dataframe\">\n",
              "  <thead>\n",
              "    <tr style=\"text-align: right;\">\n",
              "      <th></th>\n",
              "      <th>Data</th>\n",
              "      <th>Maior</th>\n",
              "      <th>Menor</th>\n",
              "      <th>Abertura</th>\n",
              "      <th>Fechamento</th>\n",
              "      <th>Volume</th>\n",
              "      <th>Adj Close</th>\n",
              "    </tr>\n",
              "  </thead>\n",
              "  <tbody>\n",
              "    <tr>\n",
              "      <th>0</th>\n",
              "      <td>1/4/2021</td>\n",
              "      <td>25,58</td>\n",
              "      <td>24,87</td>\n",
              "      <td>25,26</td>\n",
              "      <td>25,20</td>\n",
              "      <td>25.706.100</td>\n",
              "      <td>25,18</td>\n",
              "    </tr>\n",
              "    <tr>\n",
              "      <th>1</th>\n",
              "      <td>1/5/2021</td>\n",
              "      <td>25,18</td>\n",
              "      <td>24,34</td>\n",
              "      <td>25,10</td>\n",
              "      <td>24,76</td>\n",
              "      <td>25.431.900</td>\n",
              "      <td>24,74</td>\n",
              "    </tr>\n",
              "    <tr>\n",
              "      <th>2</th>\n",
              "      <td>1/6/2021</td>\n",
              "      <td>24,66</td>\n",
              "      <td>23,42</td>\n",
              "      <td>24,65</td>\n",
              "      <td>23,46</td>\n",
              "      <td>51.799.000</td>\n",
              "      <td>23,44</td>\n",
              "    </tr>\n",
              "    <tr>\n",
              "      <th>3</th>\n",
              "      <td>1/7/2021</td>\n",
              "      <td>23,85</td>\n",
              "      <td>22,95</td>\n",
              "      <td>23,64</td>\n",
              "      <td>23,16</td>\n",
              "      <td>42.146.600</td>\n",
              "      <td>23,14</td>\n",
              "    </tr>\n",
              "    <tr>\n",
              "      <th>4</th>\n",
              "      <td>1/8/2021</td>\n",
              "      <td>24,30</td>\n",
              "      <td>23,02</td>\n",
              "      <td>23,19</td>\n",
              "      <td>23,84</td>\n",
              "      <td>43.988.100</td>\n",
              "      <td>23,82</td>\n",
              "    </tr>\n",
              "  </tbody>\n",
              "</table>\n",
              "</div>\n",
              "      <button class=\"colab-df-convert\" onclick=\"convertToInteractive('df-7b870ced-7169-49e2-b5dd-6990bf9d6585')\"\n",
              "              title=\"Convert this dataframe to an interactive table.\"\n",
              "              style=\"display:none;\">\n",
              "        \n",
              "  <svg xmlns=\"http://www.w3.org/2000/svg\" height=\"24px\"viewBox=\"0 0 24 24\"\n",
              "       width=\"24px\">\n",
              "    <path d=\"M0 0h24v24H0V0z\" fill=\"none\"/>\n",
              "    <path d=\"M18.56 5.44l.94 2.06.94-2.06 2.06-.94-2.06-.94-.94-2.06-.94 2.06-2.06.94zm-11 1L8.5 8.5l.94-2.06 2.06-.94-2.06-.94L8.5 2.5l-.94 2.06-2.06.94zm10 10l.94 2.06.94-2.06 2.06-.94-2.06-.94-.94-2.06-.94 2.06-2.06.94z\"/><path d=\"M17.41 7.96l-1.37-1.37c-.4-.4-.92-.59-1.43-.59-.52 0-1.04.2-1.43.59L10.3 9.45l-7.72 7.72c-.78.78-.78 2.05 0 2.83L4 21.41c.39.39.9.59 1.41.59.51 0 1.02-.2 1.41-.59l7.78-7.78 2.81-2.81c.8-.78.8-2.07 0-2.86zM5.41 20L4 18.59l7.72-7.72 1.47 1.35L5.41 20z\"/>\n",
              "  </svg>\n",
              "      </button>\n",
              "      \n",
              "  <style>\n",
              "    .colab-df-container {\n",
              "      display:flex;\n",
              "      flex-wrap:wrap;\n",
              "      gap: 12px;\n",
              "    }\n",
              "\n",
              "    .colab-df-convert {\n",
              "      background-color: #E8F0FE;\n",
              "      border: none;\n",
              "      border-radius: 50%;\n",
              "      cursor: pointer;\n",
              "      display: none;\n",
              "      fill: #1967D2;\n",
              "      height: 32px;\n",
              "      padding: 0 0 0 0;\n",
              "      width: 32px;\n",
              "    }\n",
              "\n",
              "    .colab-df-convert:hover {\n",
              "      background-color: #E2EBFA;\n",
              "      box-shadow: 0px 1px 2px rgba(60, 64, 67, 0.3), 0px 1px 3px 1px rgba(60, 64, 67, 0.15);\n",
              "      fill: #174EA6;\n",
              "    }\n",
              "\n",
              "    [theme=dark] .colab-df-convert {\n",
              "      background-color: #3B4455;\n",
              "      fill: #D2E3FC;\n",
              "    }\n",
              "\n",
              "    [theme=dark] .colab-df-convert:hover {\n",
              "      background-color: #434B5C;\n",
              "      box-shadow: 0px 1px 3px 1px rgba(0, 0, 0, 0.15);\n",
              "      filter: drop-shadow(0px 1px 2px rgba(0, 0, 0, 0.3));\n",
              "      fill: #FFFFFF;\n",
              "    }\n",
              "  </style>\n",
              "\n",
              "      <script>\n",
              "        const buttonEl =\n",
              "          document.querySelector('#df-7b870ced-7169-49e2-b5dd-6990bf9d6585 button.colab-df-convert');\n",
              "        buttonEl.style.display =\n",
              "          google.colab.kernel.accessAllowed ? 'block' : 'none';\n",
              "\n",
              "        async function convertToInteractive(key) {\n",
              "          const element = document.querySelector('#df-7b870ced-7169-49e2-b5dd-6990bf9d6585');\n",
              "          const dataTable =\n",
              "            await google.colab.kernel.invokeFunction('convertToInteractive',\n",
              "                                                     [key], {});\n",
              "          if (!dataTable) return;\n",
              "\n",
              "          const docLinkHtml = 'Like what you see? Visit the ' +\n",
              "            '<a target=\"_blank\" href=https://colab.research.google.com/notebooks/data_table.ipynb>data table notebook</a>'\n",
              "            + ' to learn more about interactive tables.';\n",
              "          element.innerHTML = '';\n",
              "          dataTable['output_type'] = 'display_data';\n",
              "          await google.colab.output.renderOutput(dataTable, element);\n",
              "          const docLink = document.createElement('div');\n",
              "          docLink.innerHTML = docLinkHtml;\n",
              "          element.appendChild(docLink);\n",
              "        }\n",
              "      </script>\n",
              "    </div>\n",
              "  </div>\n",
              "  "
            ]
          },
          "metadata": {},
          "execution_count": 84
        }
      ]
    },
    {
      "cell_type": "code",
      "source": [
        "df.shape"
      ],
      "metadata": {
        "colab": {
          "base_uri": "https://localhost:8080/"
        },
        "id": "wrVJU_fvCfpj",
        "outputId": "e3a0c284-e49a-47a6-ba76-83e02ff55e55"
      },
      "execution_count": 85,
      "outputs": [
        {
          "output_type": "execute_result",
          "data": {
            "text/plain": [
              "(247, 7)"
            ]
          },
          "metadata": {},
          "execution_count": 85
        }
      ]
    },
    {
      "cell_type": "code",
      "source": [
        "df.info()"
      ],
      "metadata": {
        "colab": {
          "base_uri": "https://localhost:8080/"
        },
        "id": "p4D0E9tkCs2i",
        "outputId": "fa0052d5-fd47-4242-8b09-2832ad7b4e2a"
      },
      "execution_count": 86,
      "outputs": [
        {
          "output_type": "stream",
          "name": "stdout",
          "text": [
            "<class 'pandas.core.frame.DataFrame'>\n",
            "RangeIndex: 247 entries, 0 to 246\n",
            "Data columns (total 7 columns):\n",
            " #   Column      Non-Null Count  Dtype \n",
            "---  ------      --------------  ----- \n",
            " 0   Data        247 non-null    object\n",
            " 1   Maior       247 non-null    object\n",
            " 2   Menor       247 non-null    object\n",
            " 3   Abertura    247 non-null    object\n",
            " 4   Fechamento  247 non-null    object\n",
            " 5   Volume      247 non-null    object\n",
            " 6   Adj Close   247 non-null    object\n",
            "dtypes: object(7)\n",
            "memory usage: 13.6+ KB\n"
          ]
        }
      ]
    },
    {
      "cell_type": "code",
      "source": [
        "df['Data'] = pd.to_datetime(df['Data'])\n",
        "\n",
        "df.info()"
      ],
      "metadata": {
        "colab": {
          "base_uri": "https://localhost:8080/"
        },
        "id": "1Mh7nFJ3DDkM",
        "outputId": "06519537-0e00-4c1a-a92a-e24ebe8b6018"
      },
      "execution_count": 87,
      "outputs": [
        {
          "output_type": "stream",
          "name": "stdout",
          "text": [
            "<class 'pandas.core.frame.DataFrame'>\n",
            "RangeIndex: 247 entries, 0 to 246\n",
            "Data columns (total 7 columns):\n",
            " #   Column      Non-Null Count  Dtype         \n",
            "---  ------      --------------  -----         \n",
            " 0   Data        247 non-null    datetime64[ns]\n",
            " 1   Maior       247 non-null    object        \n",
            " 2   Menor       247 non-null    object        \n",
            " 3   Abertura    247 non-null    object        \n",
            " 4   Fechamento  247 non-null    object        \n",
            " 5   Volume      247 non-null    object        \n",
            " 6   Adj Close   247 non-null    object        \n",
            "dtypes: datetime64[ns](1), object(6)\n",
            "memory usage: 13.6+ KB\n"
          ]
        }
      ]
    },
    {
      "cell_type": "code",
      "source": [
        "df.describe()"
      ],
      "metadata": {
        "colab": {
          "base_uri": "https://localhost:8080/",
          "height": 238
        },
        "id": "4SRjlG8uCtfM",
        "outputId": "985cb1ed-a352-4f27-f06a-79818d59c8b6"
      },
      "execution_count": 88,
      "outputs": [
        {
          "output_type": "execute_result",
          "data": {
            "text/plain": [
              "                       Data  Maior  Menor Abertura Fechamento      Volume  \\\n",
              "count                   247    247    247      247        247         247   \n",
              "unique                  247    217    229      225        227         247   \n",
              "top     2021-01-04 00:00:00  23,85  20,21     6,42      21,65  25.706.100   \n",
              "freq                      1      3      3        3          3           1   \n",
              "first   2021-01-04 00:00:00    NaN    NaN      NaN        NaN         NaN   \n",
              "last    2021-12-30 00:00:00    NaN    NaN      NaN        NaN         NaN   \n",
              "\n",
              "       Adj Close  \n",
              "count        247  \n",
              "unique       228  \n",
              "top        21,63  \n",
              "freq           3  \n",
              "first        NaN  \n",
              "last         NaN  "
            ],
            "text/html": [
              "\n",
              "  <div id=\"df-fd6d40f2-a45f-4c71-8566-d6bc4e385443\">\n",
              "    <div class=\"colab-df-container\">\n",
              "      <div>\n",
              "<style scoped>\n",
              "    .dataframe tbody tr th:only-of-type {\n",
              "        vertical-align: middle;\n",
              "    }\n",
              "\n",
              "    .dataframe tbody tr th {\n",
              "        vertical-align: top;\n",
              "    }\n",
              "\n",
              "    .dataframe thead th {\n",
              "        text-align: right;\n",
              "    }\n",
              "</style>\n",
              "<table border=\"1\" class=\"dataframe\">\n",
              "  <thead>\n",
              "    <tr style=\"text-align: right;\">\n",
              "      <th></th>\n",
              "      <th>Data</th>\n",
              "      <th>Maior</th>\n",
              "      <th>Menor</th>\n",
              "      <th>Abertura</th>\n",
              "      <th>Fechamento</th>\n",
              "      <th>Volume</th>\n",
              "      <th>Adj Close</th>\n",
              "    </tr>\n",
              "  </thead>\n",
              "  <tbody>\n",
              "    <tr>\n",
              "      <th>count</th>\n",
              "      <td>247</td>\n",
              "      <td>247</td>\n",
              "      <td>247</td>\n",
              "      <td>247</td>\n",
              "      <td>247</td>\n",
              "      <td>247</td>\n",
              "      <td>247</td>\n",
              "    </tr>\n",
              "    <tr>\n",
              "      <th>unique</th>\n",
              "      <td>247</td>\n",
              "      <td>217</td>\n",
              "      <td>229</td>\n",
              "      <td>225</td>\n",
              "      <td>227</td>\n",
              "      <td>247</td>\n",
              "      <td>228</td>\n",
              "    </tr>\n",
              "    <tr>\n",
              "      <th>top</th>\n",
              "      <td>2021-01-04 00:00:00</td>\n",
              "      <td>23,85</td>\n",
              "      <td>20,21</td>\n",
              "      <td>6,42</td>\n",
              "      <td>21,65</td>\n",
              "      <td>25.706.100</td>\n",
              "      <td>21,63</td>\n",
              "    </tr>\n",
              "    <tr>\n",
              "      <th>freq</th>\n",
              "      <td>1</td>\n",
              "      <td>3</td>\n",
              "      <td>3</td>\n",
              "      <td>3</td>\n",
              "      <td>3</td>\n",
              "      <td>1</td>\n",
              "      <td>3</td>\n",
              "    </tr>\n",
              "    <tr>\n",
              "      <th>first</th>\n",
              "      <td>2021-01-04 00:00:00</td>\n",
              "      <td>NaN</td>\n",
              "      <td>NaN</td>\n",
              "      <td>NaN</td>\n",
              "      <td>NaN</td>\n",
              "      <td>NaN</td>\n",
              "      <td>NaN</td>\n",
              "    </tr>\n",
              "    <tr>\n",
              "      <th>last</th>\n",
              "      <td>2021-12-30 00:00:00</td>\n",
              "      <td>NaN</td>\n",
              "      <td>NaN</td>\n",
              "      <td>NaN</td>\n",
              "      <td>NaN</td>\n",
              "      <td>NaN</td>\n",
              "      <td>NaN</td>\n",
              "    </tr>\n",
              "  </tbody>\n",
              "</table>\n",
              "</div>\n",
              "      <button class=\"colab-df-convert\" onclick=\"convertToInteractive('df-fd6d40f2-a45f-4c71-8566-d6bc4e385443')\"\n",
              "              title=\"Convert this dataframe to an interactive table.\"\n",
              "              style=\"display:none;\">\n",
              "        \n",
              "  <svg xmlns=\"http://www.w3.org/2000/svg\" height=\"24px\"viewBox=\"0 0 24 24\"\n",
              "       width=\"24px\">\n",
              "    <path d=\"M0 0h24v24H0V0z\" fill=\"none\"/>\n",
              "    <path d=\"M18.56 5.44l.94 2.06.94-2.06 2.06-.94-2.06-.94-.94-2.06-.94 2.06-2.06.94zm-11 1L8.5 8.5l.94-2.06 2.06-.94-2.06-.94L8.5 2.5l-.94 2.06-2.06.94zm10 10l.94 2.06.94-2.06 2.06-.94-2.06-.94-.94-2.06-.94 2.06-2.06.94z\"/><path d=\"M17.41 7.96l-1.37-1.37c-.4-.4-.92-.59-1.43-.59-.52 0-1.04.2-1.43.59L10.3 9.45l-7.72 7.72c-.78.78-.78 2.05 0 2.83L4 21.41c.39.39.9.59 1.41.59.51 0 1.02-.2 1.41-.59l7.78-7.78 2.81-2.81c.8-.78.8-2.07 0-2.86zM5.41 20L4 18.59l7.72-7.72 1.47 1.35L5.41 20z\"/>\n",
              "  </svg>\n",
              "      </button>\n",
              "      \n",
              "  <style>\n",
              "    .colab-df-container {\n",
              "      display:flex;\n",
              "      flex-wrap:wrap;\n",
              "      gap: 12px;\n",
              "    }\n",
              "\n",
              "    .colab-df-convert {\n",
              "      background-color: #E8F0FE;\n",
              "      border: none;\n",
              "      border-radius: 50%;\n",
              "      cursor: pointer;\n",
              "      display: none;\n",
              "      fill: #1967D2;\n",
              "      height: 32px;\n",
              "      padding: 0 0 0 0;\n",
              "      width: 32px;\n",
              "    }\n",
              "\n",
              "    .colab-df-convert:hover {\n",
              "      background-color: #E2EBFA;\n",
              "      box-shadow: 0px 1px 2px rgba(60, 64, 67, 0.3), 0px 1px 3px 1px rgba(60, 64, 67, 0.15);\n",
              "      fill: #174EA6;\n",
              "    }\n",
              "\n",
              "    [theme=dark] .colab-df-convert {\n",
              "      background-color: #3B4455;\n",
              "      fill: #D2E3FC;\n",
              "    }\n",
              "\n",
              "    [theme=dark] .colab-df-convert:hover {\n",
              "      background-color: #434B5C;\n",
              "      box-shadow: 0px 1px 3px 1px rgba(0, 0, 0, 0.15);\n",
              "      filter: drop-shadow(0px 1px 2px rgba(0, 0, 0, 0.3));\n",
              "      fill: #FFFFFF;\n",
              "    }\n",
              "  </style>\n",
              "\n",
              "      <script>\n",
              "        const buttonEl =\n",
              "          document.querySelector('#df-fd6d40f2-a45f-4c71-8566-d6bc4e385443 button.colab-df-convert');\n",
              "        buttonEl.style.display =\n",
              "          google.colab.kernel.accessAllowed ? 'block' : 'none';\n",
              "\n",
              "        async function convertToInteractive(key) {\n",
              "          const element = document.querySelector('#df-fd6d40f2-a45f-4c71-8566-d6bc4e385443');\n",
              "          const dataTable =\n",
              "            await google.colab.kernel.invokeFunction('convertToInteractive',\n",
              "                                                     [key], {});\n",
              "          if (!dataTable) return;\n",
              "\n",
              "          const docLinkHtml = 'Like what you see? Visit the ' +\n",
              "            '<a target=\"_blank\" href=https://colab.research.google.com/notebooks/data_table.ipynb>data table notebook</a>'\n",
              "            + ' to learn more about interactive tables.';\n",
              "          element.innerHTML = '';\n",
              "          dataTable['output_type'] = 'display_data';\n",
              "          await google.colab.output.renderOutput(dataTable, element);\n",
              "          const docLink = document.createElement('div');\n",
              "          docLink.innerHTML = docLinkHtml;\n",
              "          element.appendChild(docLink);\n",
              "        }\n",
              "      </script>\n",
              "    </div>\n",
              "  </div>\n",
              "  "
            ]
          },
          "metadata": {},
          "execution_count": 88
        }
      ]
    },
    {
      "cell_type": "code",
      "source": [
        "df1 = df.set_index('Data') \n",
        "\n",
        "df1['Fechamento'] = df1['Fechamento'].str.replace(',','.')\n",
        "\n",
        "df1['Fechamento'] = df1['Fechamento'].astype(float)\n"
      ],
      "metadata": {
        "id": "nj6JXdkxCzF2"
      },
      "execution_count": 89,
      "outputs": []
    },
    {
      "cell_type": "code",
      "source": [
        "plt.style.use('seaborn-darkgrid')\n",
        "plt.figure( figsize=(16,5) )\n",
        "plt.title('Analise das açoes da magalu - Fechamento', fontsize=15, loc='left')\n",
        "plt.plot( df1.index, df1['Fechamento'] );\n",
        "\n",
        "plt.xlabel('Período da cotaçao')\n",
        "plt.ylabel('Valor da açao');"
      ],
      "metadata": {
        "colab": {
          "base_uri": "https://localhost:8080/",
          "height": 347
        },
        "id": "VvkWBJOIDQKS",
        "outputId": "91b44e7d-ab1a-4a4b-ca0d-aedca36c9517"
      },
      "execution_count": 90,
      "outputs": [
        {
          "output_type": "display_data",
          "data": {
            "text/plain": [
              "<Figure size 1152x360 with 1 Axes>"
            ],
            "image/png": "[encoded data removed]"
          },
          "metadata": {}
        }
      ]
    },
    {
      "cell_type": "code",
      "source": [
        "# MEDIAS MOVEIS\n",
        "\n",
        "media_movel = df1['Fechamento'].rolling(5).mean()\n",
        "media_tendencia = df1['Fechamento'].rolling(30).mean()"
      ],
      "metadata": {
        "id": "y_KS9zyHEFrk"
      },
      "execution_count": 91,
      "outputs": []
    },
    {
      "cell_type": "code",
      "source": [
        "plt.style.use('seaborn-darkgrid')\n",
        "plt.figure( figsize=(16,5) )\n",
        "plt.title('Analise das açoes da magalu - Fechamento', fontsize=15, loc='left')\n",
        "\n",
        "plt.plot( df1.index, df1['Fechamento'] )\n",
        "plt.plot( media_movel.index, media_movel )\n",
        "plt.plot( media_tendencia.index, media_tendencia );\n",
        "\n",
        "\n",
        "plt.xlabel('Período da cotaçao')\n",
        "plt.ylabel('Valor da açao');"
      ],
      "metadata": {
        "colab": {
          "base_uri": "https://localhost:8080/",
          "height": 347
        },
        "id": "u-llOyMkUJMw",
        "outputId": "82e1ec0e-85c1-424f-a9b7-4eef430e3770"
      },
      "execution_count": 92,
      "outputs": [
        {
          "output_type": "display_data",
          "data": {
            "text/plain": [
              "<Figure size 1152x360 with 1 Axes>"
            ],
            "image/png": "[encoded data removed]"
          },
          "metadata": {}
        }
      ]
    },
    {
      "cell_type": "code",
      "source": [
        "sns.boxplot(data=df1, x='Fechamento')"
      ],
      "metadata": {
        "colab": {
          "base_uri": "https://localhost:8080/",
          "height": 293
        },
        "id": "dluNOySzVJ9_",
        "outputId": "552452c4-0e29-439c-f262-9e4b90dc03c3"
      },
      "execution_count": 93,
      "outputs": [
        {
          "output_type": "execute_result",
          "data": {
            "text/plain": [
              "<matplotlib.axes._subplots.AxesSubplot at 0x7f28b0c8ed50>"
            ]
          },
          "metadata": {},
          "execution_count": 93
        },
        {
          "output_type": "display_data",
          "data": {
            "text/plain": [
              "<Figure size 432x288 with 1 Axes>"
            ],
            "image/png": "[encoded data removed]"
          },
          "metadata": {}
        }
      ]
    },
    {
      "cell_type": "code",
      "source": [
        "df['Fechamento'] = df['Fechamento'].str.replace(',','.')\n",
        "\n",
        "df['Fechamento'] = df['Fechamento'].astype(float)"
      ],
      "metadata": {
        "id": "x0oWwXNMV_I5"
      },
      "execution_count": 94,
      "outputs": []
    },
    {
      "cell_type": "code",
      "source": [
        "df.dtypes"
      ],
      "metadata": {
        "colab": {
          "base_uri": "https://localhost:8080/"
        },
        "id": "dbq3QuueV_QN",
        "outputId": "e9373ad5-0607-40dd-d2a9-42d4cbd368a3"
      },
      "execution_count": 95,
      "outputs": [
        {
          "output_type": "execute_result",
          "data": {
            "text/plain": [
              "Data          datetime64[ns]\n",
              "Maior                 object\n",
              "Menor                 object\n",
              "Abertura              object\n",
              "Fechamento           float64\n",
              "Volume                object\n",
              "Adj Close             object\n",
              "dtype: object"
            ]
          },
          "metadata": {},
          "execution_count": 95
        }
      ]
    },
    {
      "cell_type": "code",
      "source": [
        "# Boxplot mensal\n",
        "\n",
        "df['Mes'] = df['Data'].dt.month\n",
        "\n",
        "plt.figure( figsize=(16,5))\n",
        "sns.boxplot ( data=df, x='Mes', y='Fechamento');"
      ],
      "metadata": {
        "colab": {
          "base_uri": "https://localhost:8080/",
          "height": 330
        },
        "id": "6NwWMoTaVKAo",
        "outputId": "c3226b1a-0445-468c-eeba-50dba0619b45"
      },
      "execution_count": 96,
      "outputs": [
        {
          "output_type": "display_data",
          "data": {
            "text/plain": [
              "<Figure size 1152x360 with 1 Axes>"
            ],
            "image/png": "[encoded data removed]"
          },
          "metadata": {}
        }
      ]
    },
    {
      "cell_type": "code",
      "source": [
        "df.groupby(['Mes']).describe()['Fechamento']"
      ],
      "metadata": {
        "colab": {
          "base_uri": "https://localhost:8080/",
          "height": 457
        },
        "id": "IL0mMZJXVKDH",
        "outputId": "9894e616-5aa2-4876-9973-0c5ec6ff9ab2"
      },
      "execution_count": 97,
      "outputs": [
        {
          "output_type": "execute_result",
          "data": {
            "text/plain": [
              "     count       mean       std    min      25%     50%      75%    max\n",
              "Mes                                                                    \n",
              "1     19.0  24.644737  0.960280  23.16  23.9000  24.450  25.4550  26.19\n",
              "2     18.0  25.208889  0.656021  24.05  24.8775  25.300  25.6500  26.24\n",
              "3     23.0  22.855217  1.976698  19.65  20.9400  23.390  24.5600  25.44\n",
              "4     20.0  21.249000  0.735297  20.03  20.5600  21.625  21.7600  22.20\n",
              "5     21.0  19.430476  0.564973  18.53  18.9700  19.460  19.9000  20.25\n",
              "6     21.0  20.898095  0.463116  20.27  20.5000  20.890  21.2700  21.67\n",
              "7     21.0  22.232857  0.977574  20.60  21.5300  22.040  23.1200  23.90\n",
              "8     22.0  19.656818  0.885827  18.13  18.8975  19.485  20.4525  20.97\n",
              "9     21.0  16.746190  1.628581  13.94  15.8700  16.570  18.0100  19.48\n",
              "10    20.0  13.350000  1.267667  10.81  12.3925  13.720  14.4000  14.97\n",
              "11    20.0  10.269000  1.892356   7.80   8.7900   9.505  11.6450  13.65\n",
              "12    21.0   6.609048  0.461486   5.74   6.2800   6.660   6.8300   7.62"
            ],
            "text/html": [
              "\n",
              "  <div id=\"df-52ecd92c-d8ae-47e1-a9e7-0641ac98e180\">\n",
              "    <div class=\"colab-df-container\">\n",
              "      <div>\n",
              "<style scoped>\n",
              "    .dataframe tbody tr th:only-of-type {\n",
              "        vertical-align: middle;\n",
              "    }\n",
              "\n",
              "    .dataframe tbody tr th {\n",
              "        vertical-align: top;\n",
              "    }\n",
              "\n",
              "    .dataframe thead th {\n",
              "        text-align: right;\n",
              "    }\n",
              "</style>\n",
              "<table border=\"1\" class=\"dataframe\">\n",
              "  <thead>\n",
              "    <tr style=\"text-align: right;\">\n",
              "      <th></th>\n",
              "      <th>count</th>\n",
              "      <th>mean</th>\n",
              "      <th>std</th>\n",
              "      <th>min</th>\n",
              "      <th>25%</th>\n",
              "      <th>50%</th>\n",
              "      <th>75%</th>\n",
              "      <th>max</th>\n",
              "    </tr>\n",
              "    <tr>\n",
              "      <th>Mes</th>\n",
              "      <th></th>\n",
              "      <th></th>\n",
              "      <th></th>\n",
              "      <th></th>\n",
              "      <th></th>\n",
              "      <th></th>\n",
              "      <th></th>\n",
              "      <th></th>\n",
              "    </tr>\n",
              "  </thead>\n",
              "  <tbody>\n",
              "    <tr>\n",
              "      <th>1</th>\n",
              "      <td>19.0</td>\n",
              "      <td>24.644737</td>\n",
              "      <td>0.960280</td>\n",
              "      <td>23.16</td>\n",
              "      <td>23.9000</td>\n",
              "      <td>24.450</td>\n",
              "      <td>25.4550</td>\n",
              "      <td>26.19</td>\n",
              "    </tr>\n",
              "    <tr>\n",
              "      <th>2</th>\n",
              "      <td>18.0</td>\n",
              "      <td>25.208889</td>\n",
              "      <td>0.656021</td>\n",
              "      <td>24.05</td>\n",
              "      <td>24.8775</td>\n",
              "      <td>25.300</td>\n",
              "      <td>25.6500</td>\n",
              "      <td>26.24</td>\n",
              "    </tr>\n",
              "    <tr>\n",
              "      <th>3</th>\n",
              "      <td>23.0</td>\n",
              "      <td>22.855217</td>\n",
              "      <td>1.976698</td>\n",
              "      <td>19.65</td>\n",
              "      <td>20.9400</td>\n",
              "      <td>23.390</td>\n",
              "      <td>24.5600</td>\n",
              "      <td>25.44</td>\n",
              "    </tr>\n",
              "    <tr>\n",
              "      <th>4</th>\n",
              "      <td>20.0</td>\n",
              "      <td>21.249000</td>\n",
              "      <td>0.735297</td>\n",
              "      <td>20.03</td>\n",
              "      <td>20.5600</td>\n",
              "      <td>21.625</td>\n",
              "      <td>21.7600</td>\n",
              "      <td>22.20</td>\n",
              "    </tr>\n",
              "    <tr>\n",
              "      <th>5</th>\n",
              "      <td>21.0</td>\n",
              "      <td>19.430476</td>\n",
              "      <td>0.564973</td>\n",
              "      <td>18.53</td>\n",
              "      <td>18.9700</td>\n",
              "      <td>19.460</td>\n",
              "      <td>19.9000</td>\n",
              "      <td>20.25</td>\n",
              "    </tr>\n",
              "    <tr>\n",
              "      <th>6</th>\n",
              "      <td>21.0</td>\n",
              "      <td>20.898095</td>\n",
              "      <td>0.463116</td>\n",
              "      <td>20.27</td>\n",
              "      <td>20.5000</td>\n",
              "      <td>20.890</td>\n",
              "      <td>21.2700</td>\n",
              "      <td>21.67</td>\n",
              "    </tr>\n",
              "    <tr>\n",
              "      <th>7</th>\n",
              "      <td>21.0</td>\n",
              "      <td>22.232857</td>\n",
              "      <td>0.977574</td>\n",
              "      <td>20.60</td>\n",
              "      <td>21.5300</td>\n",
              "      <td>22.040</td>\n",
              "      <td>23.1200</td>\n",
              "      <td>23.90</td>\n",
              "    </tr>\n",
              "    <tr>\n",
              "      <th>8</th>\n",
              "      <td>22.0</td>\n",
              "      <td>19.656818</td>\n",
              "      <td>0.885827</td>\n",
              "      <td>18.13</td>\n",
              "      <td>18.8975</td>\n",
              "      <td>19.485</td>\n",
              "      <td>20.4525</td>\n",
              "      <td>20.97</td>\n",
              "    </tr>\n",
              "    <tr>\n",
              "      <th>9</th>\n",
              "      <td>21.0</td>\n",
              "      <td>16.746190</td>\n",
              "      <td>1.628581</td>\n",
              "      <td>13.94</td>\n",
              "      <td>15.8700</td>\n",
              "      <td>16.570</td>\n",
              "      <td>18.0100</td>\n",
              "      <td>19.48</td>\n",
              "    </tr>\n",
              "    <tr>\n",
              "      <th>10</th>\n",
              "      <td>20.0</td>\n",
              "      <td>13.350000</td>\n",
              "      <td>1.267667</td>\n",
              "      <td>10.81</td>\n",
              "      <td>12.3925</td>\n",
              "      <td>13.720</td>\n",
              "      <td>14.4000</td>\n",
              "      <td>14.97</td>\n",
              "    </tr>\n",
              "    <tr>\n",
              "      <th>11</th>\n",
              "      <td>20.0</td>\n",
              "      <td>10.269000</td>\n",
              "      <td>1.892356</td>\n",
              "      <td>7.80</td>\n",
              "      <td>8.7900</td>\n",
              "      <td>9.505</td>\n",
              "      <td>11.6450</td>\n",
              "      <td>13.65</td>\n",
              "    </tr>\n",
              "    <tr>\n",
              "      <th>12</th>\n",
              "      <td>21.0</td>\n",
              "      <td>6.609048</td>\n",
              "      <td>0.461486</td>\n",
              "      <td>5.74</td>\n",
              "      <td>6.2800</td>\n",
              "      <td>6.660</td>\n",
              "      <td>6.8300</td>\n",
              "      <td>7.62</td>\n",
              "    </tr>\n",
              "  </tbody>\n",
              "</table>\n",
              "</div>\n",
              "      <button class=\"colab-df-convert\" onclick=\"convertToInteractive('df-52ecd92c-d8ae-47e1-a9e7-0641ac98e180')\"\n",
              "              title=\"Convert this dataframe to an interactive table.\"\n",
              "              style=\"display:none;\">\n",
              "        \n",
              "  <svg xmlns=\"http://www.w3.org/2000/svg\" height=\"24px\"viewBox=\"0 0 24 24\"\n",
              "       width=\"24px\">\n",
              "    <path d=\"M0 0h24v24H0V0z\" fill=\"none\"/>\n",
              "    <path d=\"M18.56 5.44l.94 2.06.94-2.06 2.06-.94-2.06-.94-.94-2.06-.94 2.06-2.06.94zm-11 1L8.5 8.5l.94-2.06 2.06-.94-2.06-.94L8.5 2.5l-.94 2.06-2.06.94zm10 10l.94 2.06.94-2.06 2.06-.94-2.06-.94-.94-2.06-.94 2.06-2.06.94z\"/><path d=\"M17.41 7.96l-1.37-1.37c-.4-.4-.92-.59-1.43-.59-.52 0-1.04.2-1.43.59L10.3 9.45l-7.72 7.72c-.78.78-.78 2.05 0 2.83L4 21.41c.39.39.9.59 1.41.59.51 0 1.02-.2 1.41-.59l7.78-7.78 2.81-2.81c.8-.78.8-2.07 0-2.86zM5.41 20L4 18.59l7.72-7.72 1.47 1.35L5.41 20z\"/>\n",
              "  </svg>\n",
              "      </button>\n",
              "      \n",
              "  <style>\n",
              "    .colab-df-container {\n",
              "      display:flex;\n",
              "      flex-wrap:wrap;\n",
              "      gap: 12px;\n",
              "    }\n",
              "\n",
              "    .colab-df-convert {\n",
              "      background-color: #E8F0FE;\n",
              "      border: none;\n",
              "      border-radius: 50%;\n",
              "      cursor: pointer;\n",
              "      display: none;\n",
              "      fill: #1967D2;\n",
              "      height: 32px;\n",
              "      padding: 0 0 0 0;\n",
              "      width: 32px;\n",
              "    }\n",
              "\n",
              "    .colab-df-convert:hover {\n",
              "      background-color: #E2EBFA;\n",
              "      box-shadow: 0px 1px 2px rgba(60, 64, 67, 0.3), 0px 1px 3px 1px rgba(60, 64, 67, 0.15);\n",
              "      fill: #174EA6;\n",
              "    }\n",
              "\n",
              "    [theme=dark] .colab-df-convert {\n",
              "      background-color: #3B4455;\n",
              "      fill: #D2E3FC;\n",
              "    }\n",
              "\n",
              "    [theme=dark] .colab-df-convert:hover {\n",
              "      background-color: #434B5C;\n",
              "      box-shadow: 0px 1px 3px 1px rgba(0, 0, 0, 0.15);\n",
              "      filter: drop-shadow(0px 1px 2px rgba(0, 0, 0, 0.3));\n",
              "      fill: #FFFFFF;\n",
              "    }\n",
              "  </style>\n",
              "\n",
              "      <script>\n",
              "        const buttonEl =\n",
              "          document.querySelector('#df-52ecd92c-d8ae-47e1-a9e7-0641ac98e180 button.colab-df-convert');\n",
              "        buttonEl.style.display =\n",
              "          google.colab.kernel.accessAllowed ? 'block' : 'none';\n",
              "\n",
              "        async function convertToInteractive(key) {\n",
              "          const element = document.querySelector('#df-52ecd92c-d8ae-47e1-a9e7-0641ac98e180');\n",
              "          const dataTable =\n",
              "            await google.colab.kernel.invokeFunction('convertToInteractive',\n",
              "                                                     [key], {});\n",
              "          if (!dataTable) return;\n",
              "\n",
              "          const docLinkHtml = 'Like what you see? Visit the ' +\n",
              "            '<a target=\"_blank\" href=https://colab.research.google.com/notebooks/data_table.ipynb>data table notebook</a>'\n",
              "            + ' to learn more about interactive tables.';\n",
              "          element.innerHTML = '';\n",
              "          dataTable['output_type'] = 'display_data';\n",
              "          await google.colab.output.renderOutput(dataTable, element);\n",
              "          const docLink = document.createElement('div');\n",
              "          docLink.innerHTML = docLinkHtml;\n",
              "          element.appendChild(docLink);\n",
              "        }\n",
              "      </script>\n",
              "    </div>\n",
              "  </div>\n",
              "  "
            ]
          },
          "metadata": {},
          "execution_count": 97
        }
      ]
    },
    {
      "cell_type": "code",
      "source": [
        "# Plot de Bovespa\n",
        "\n",
        "Grafico = go.Figure(\n",
        "    data=[\n",
        "          go.Candlestick(\n",
        "              x=df1.index,\n",
        "              open=df1['Abertura'],\n",
        "              high=df1['Maior'],\n",
        "              low=df1['Menor'],\n",
        "              close=df1['Fechamento']\n",
        "          )\n",
        "    ]\n",
        ")\n",
        "Grafico.update_layout( xaxis_rangeslider_visible=False)\n",
        "\n",
        "Grafico.show()\n"
      ],
      "metadata": {
        "colab": {
          "base_uri": "https://localhost:8080/",
          "height": 542
        },
        "id": "n2GzP_0mW5Xp",
        "outputId": "1fe1f513-c372-410e-c58a-1aba09f5d825"
      },
      "execution_count": 99,
      "outputs": [
        {
          "output_type": "display_data",
          "data": {
            "text/html": [
              "<html>\n",
              "<head><meta charset=\"utf-8\" /></head>\n",
              "<body>\n",
              "    <div>            <script src=\"https://cdnjs.cloudflare.com/ajax/libs/mathjax/2.7.5/MathJax.js?config=TeX-AMS-MML_SVG\"></script><script type=\"text/javascript\">if (window.MathJax) {MathJax.Hub.Config({SVG: {font: \"STIX-Web\"}});}</script>                <script type=\"text/javascript\">window.PlotlyConfig = {MathJaxConfig: 'local'};</script>\n",
              "        <script src=\"https://cdn.plot.ly/plotly-2.8.3.min.js\"></script>                <div id=\"823bc744-8240-4515-9fff-e3faf0706084\" class=\"plotly-graph-div\" style=\"height:525px; width:100%;\"></div>            <script type=\"text/javascript\">                                    window.PLOTLYENV=window.PLOTLYENV || {};                                    if (document.getElementById(\"823bc744-8240-4515-9fff-e3faf0706084\")) {                    Plotly.newPlot(                        \"823bc744-8240-4515-9fff-e3faf0706084\",                        [{\"close\":[25.2,24.76,23.46,23.16,23.84,23.49,24.2,24.02,23.73,23.96,24.45,24.08,25.42,25.49,25.99,25.75,25.79,26.19,25.27,24.93,25.3,25.65,25.31,25.85,26.16,26.24,25.3,25.65,25.91,25.5,25.04,24.94,24.25,24.86,24.64,24.05,24.18,24.55,24.27,25.12,25.44,25.13,23.1,23.39,24.9,24.8,24.57,23.72,24.15,23.94,22.28,22.29,21.91,21.51,20.37,20.3,19.98,19.65,20.06,20.24,20.44,20.42,20.6,20.18,21.85,21.67,21.65,22.2,22.12,22.2,21.92,21.65,21.6,21.15,21.73,21.71,20.95,20.65,20.26,20.03,20.18,19.75,19.9,19.46,19.89,19.2,19.32,18.59,19.13,19.15,18.86,18.97,18.68,18.74,18.53,20.0,20.02,19.67,19.59,20.25,20.16,20.35,20.5,20.85,20.8,21.05,20.27,20.28,20.38,20.59,20.89,20.31,21.31,21.07,21.27,20.97,20.58,21.65,21.39,21.53,21.67,21.15,20.69,21.64,21.38,21.07,22.01,21.92,22.1,22.49,22.93,23.72,23.9,23.12,23.37,23.36,23.25,22.6,22.04,21.45,21.53,21.72,20.6,20.63,20.43,19.96,20.46,20.68,20.49,20.4,20.91,20.97,20.27,19.42,19.31,18.84,18.95,18.86,18.13,19.24,19.55,18.8,19.03,18.88,18.24,18.68,18.01,18.9,19.48,18.79,18.85,17.18,17.44,17.03,16.62,16.37,16.57,16.05,16.39,16.34,15.87,15.63,15.01,14.18,13.94,14.34,14.55,13.71,13.68,14.46,14.03,14.97,14.38,14.5,14.17,14.56,14.28,13.73,13.27,12.41,12.42,12.34,11.98,11.6,11.15,10.81,11.3,11.55,11.08,12.44,11.93,13.13,13.02,13.65,11.15,9.74,9.27,8.99,9.27,8.84,8.6,8.82,8.7,8.06,8.04,7.8,6.88,6.76,7.05,7.3,7.62,6.81,6.28,6.37,6.05,5.74,6.17,6.4,6.66,6.33,6.42,6.16,6.2,6.78,6.83,6.76,7.22],\"high\":[\"25,58\",\"25,18\",\"24,66\",\"23,85\",\"24,30\",\"23,85\",\"24,32\",\"24,20\",\"24,16\",\"24,11\",\"24,65\",\"24,95\",\"25,53\",\"25,65\",\"26,30\",\"27,07\",\"26,39\",\"26,50\",\"26,08\",\"25,74\",\"25,73\",\"25,77\",\"26,20\",\"26,09\",\"26,40\",\"26,45\",\"26,12\",\"25,95\",\"25,98\",\"26,21\",\"25,59\",\"25,39\",\"24,52\",\"25,08\",\"25,10\",\"25,02\",\"24,96\",\"25,00\",\"24,60\",\"25,28\",\"25,70\",\"25,34\",\"24,77\",\"23,97\",\"25,09\",\"25,08\",\"24,90\",\"24,76\",\"24,39\",\"24,05\",\"23,85\",\"22,65\",\"22,73\",\"22,03\",\"21,51\",\"20,97\",\"20,70\",\"20,05\",\"20,32\",\"20,46\",\"21,02\",\"20,73\",\"20,72\",\"20,53\",\"21,90\",\"22,02\",\"21,93\",\"22,29\",\"22,35\",\"22,52\",\"22,25\",\"22,15\",\"21,80\",\"21,85\",\"21,73\",\"21,81\",\"21,65\",\"21,10\",\"20,67\",\"20,39\",\"20,25\",\"20,23\",\"20,09\",\"19,95\",\"19,90\",\"19,98\",\"19,39\",\"19,15\",\"19,25\",\"19,74\",\"19,22\",\"19,41\",\"19,12\",\"18,88\",\"18,78\",\"20,06\",\"20,66\",\"20,39\",\"19,84\",\"20,42\",\"20,40\",\"20,65\",\"21,26\",\"21,05\",\"20,99\",\"21,43\",\"21,09\",\"20,39\",\"20,48\",\"20,73\",\"21,18\",\"21,00\",\"21,37\",\"21,51\",\"21,32\",\"21,34\",\"21,22\",\"21,73\",\"21,93\",\"21,84\",\"21,69\",\"21,60\",\"21,27\",\"21,69\",\"21,60\",\"21,43\",\"22,15\",\"22,07\",\"22,40\",\"22,54\",\"22,93\",\"24,57\",\"24,34\",\"23,88\",\"23,38\",\"23,52\",\"23,52\",\"22,93\",\"22,76\",\"22,16\",\"21,78\",\"22,15\",\"21,70\",\"21,07\",\"20,65\",\"20,32\",\"20,75\",\"20,88\",\"20,88\",\"20,76\",\"20,96\",\"21,26\",\"21,17\",\"20,40\",\"19,66\",\"19,50\",\"19,08\",\"19,00\",\"19,05\",\"19,34\",\"19,56\",\"19,70\",\"19,15\",\"19,10\",\"19,06\",\"18,86\",\"18,66\",\"18,90\",\"19,50\",\"19,33\",\"19,42\",\"19,12\",\"18,04\",\"17,78\",\"17,13\",\"16,62\",\"16,77\",\"16,41\",\"16,61\",\"16,72\",\"16,52\",\"15,73\",\"15,72\",\"14,96\",\"14,51\",\"14,71\",\"14,71\",\"14,28\",\"14,13\",\"14,60\",\"14,84\",\"15,35\",\"15,06\",\"14,65\",\"14,63\",\"14,65\",\"14,44\",\"14,28\",\"13,89\",\"13,20\",\"12,95\",\"12,83\",\"12,35\",\"12,43\",\"11,76\",\"11,36\",\"11,43\",\"11,67\",\"11,82\",\"12,62\",\"12,66\",\"13,80\",\"13,54\",\"14,26\",\"12,78\",\"11,40\",\"10,14\",\"9,60\",\"9,87\",\"9,68\",\"9,05\",\"9,01\",\"9,04\",\"8,57\",\"8,47\",\"8,11\",\"8,10\",\"7,19\",\"7,28\",\"7,44\",\"7,72\",\"7,57\",\"6,76\",\"6,51\",\"6,72\",\"6,20\",\"6,24\",\"6,51\",\"6,73\",\"6,72\",\"6,61\",\"6,61\",\"6,34\",\"6,78\",\"6,96\",\"6,90\",\"7,41\"],\"low\":[\"24,87\",\"24,34\",\"23,42\",\"22,95\",\"23,02\",\"23,33\",\"23,25\",\"23,55\",\"23,50\",\"23,35\",\"23,91\",\"23,82\",\"24,12\",\"24,85\",\"25,10\",\"25,67\",\"25,35\",\"25,39\",\"25,03\",\"24,75\",\"25,20\",\"25,04\",\"25,16\",\"25,38\",\"25,52\",\"25,90\",\"25,11\",\"25,30\",\"25,35\",\"25,46\",\"24,80\",\"24,19\",\"23,66\",\"23,85\",\"24,20\",\"23,81\",\"23,98\",\"24,17\",\"23,59\",\"23,50\",\"24,88\",\"24,56\",\"23,10\",\"23,31\",\"23,47\",\"24,46\",\"24,27\",\"23,55\",\"23,60\",\"23,41\",\"22,07\",\"22,03\",\"21,45\",\"21,35\",\"20,21\",\"19,97\",\"19,70\",\"19,40\",\"19,42\",\"19,67\",\"20,05\",\"19,93\",\"20,06\",\"20,03\",\"20,21\",\"21,60\",\"21,61\",\"21,48\",\"21,87\",\"22,10\",\"21,76\",\"21,54\",\"21,42\",\"21,11\",\"21,13\",\"21,50\",\"20,93\",\"20,58\",\"19,91\",\"19,87\",\"19,90\",\"19,64\",\"19,68\",\"19,30\",\"19,33\",\"19,05\",\"18,66\",\"18,50\",\"18,73\",\"18,97\",\"18,73\",\"18,77\",\"18,54\",\"18,60\",\"18,25\",\"18,51\",\"20,02\",\"19,65\",\"19,47\",\"19,62\",\"19,98\",\"20,21\",\"20,25\",\"20,51\",\"20,57\",\"20,85\",\"20,22\",\"19,93\",\"19,99\",\"20,38\",\"20,48\",\"20,06\",\"20,08\",\"21,02\",\"20,88\",\"20,66\",\"20,51\",\"20,70\",\"21,06\",\"21,12\",\"21,05\",\"21,01\",\"20,42\",\"20,76\",\"21,13\",\"20,95\",\"21,28\",\"21,48\",\"21,95\",\"21,77\",\"22,51\",\"23,71\",\"23,81\",\"22,96\",\"22,70\",\"22,97\",\"23,05\",\"22,21\",\"22,02\",\"21,10\",\"21,22\",\"21,40\",\"20,55\",\"20,56\",\"19,72\",\"19,72\",\"19,99\",\"20,14\",\"20,43\",\"20,13\",\"20,15\",\"20,54\",\"19,88\",\"19,40\",\"18,71\",\"18,63\",\"18,11\",\"18,40\",\"18,07\",\"18,15\",\"19,03\",\"18,69\",\"18,76\",\"18,49\",\"18,14\",\"18,28\",\"17,86\",\"17,90\",\"18,76\",\"18,65\",\"17,96\",\"17,18\",\"17,43\",\"16,85\",\"16,49\",\"16,11\",\"15,86\",\"15,79\",\"15,82\",\"16,16\",\"15,81\",\"15,36\",\"14,92\",\"14,02\",\"13,87\",\"13,92\",\"14,07\",\"13,53\",\"13,54\",\"13,15\",\"14,00\",\"14,26\",\"14,35\",\"14,29\",\"14,10\",\"14,10\",\"14,02\",\"13,59\",\"13,13\",\"12,28\",\"11,86\",\"12,27\",\"11,73\",\"11,54\",\"11,07\",\"10,73\",\"10,86\",\"10,99\",\"10,93\",\"11,16\",\"11,87\",\"12,05\",\"12,82\",\"13,12\",\"11,15\",\"9,74\",\"9,19\",\"8,99\",\"8,94\",\"8,81\",\"8,47\",\"8,45\",\"8,61\",\"8,03\",\"7,98\",\"7,60\",\"6,88\",\"6,45\",\"6,72\",\"7,10\",\"7,37\",\"6,63\",\"6,21\",\"6,01\",\"6,05\",\"5,73\",\"5,62\",\"6,13\",\"6,06\",\"6,24\",\"6,22\",\"6,14\",\"5,99\",\"6,23\",\"6,64\",\"6,70\",\"6,77\"],\"open\":[\"25,26\",\"25,10\",\"24,65\",\"23,64\",\"23,19\",\"23,50\",\"23,60\",\"24,20\",\"24,15\",\"23,73\",\"24,05\",\"24,54\",\"24,18\",\"25,40\",\"25,13\",\"26,25\",\"25,72\",\"25,87\",\"25,74\",\"25,68\",\"25,30\",\"25,44\",\"25,64\",\"25,38\",\"25,85\",\"26,16\",\"26,10\",\"25,30\",\"25,52\",\"25,72\",\"25,50\",\"24,92\",\"24,23\",\"24,30\",\"24,93\",\"24,59\",\"24,08\",\"24,56\",\"24,29\",\"24,53\",\"25,11\",\"25,19\",\"24,69\",\"23,55\",\"23,75\",\"25,07\",\"24,60\",\"24,35\",\"23,82\",\"23,86\",\"23,76\",\"22,48\",\"22,40\",\"21,80\",\"21,48\",\"20,05\",\"20,40\",\"19,93\",\"19,49\",\"20,16\",\"20,28\",\"20,60\",\"20,34\",\"20,50\",\"20,23\",\"21,65\",\"21,78\",\"21,72\",\"22,35\",\"22,22\",\"22,19\",\"21,91\",\"21,64\",\"21,71\",\"21,26\",\"21,61\",\"21,60\",\"20,94\",\"20,63\",\"20,10\",\"20,11\",\"20,18\",\"19,85\",\"19,85\",\"19,58\",\"19,89\",\"19,00\",\"19,00\",\"18,81\",\"19,60\",\"19,12\",\"18,83\",\"18,76\",\"18,68\",\"18,75\",\"18,55\",\"20,20\",\"20,36\",\"19,74\",\"19,70\",\"20,26\",\"20,26\",\"20,41\",\"20,61\",\"20,94\",\"21,09\",\"21,05\",\"20,34\",\"20,28\",\"20,44\",\"20,56\",\"20,95\",\"20,30\",\"21,31\",\"21,17\",\"21,33\",\"20,95\",\"20,80\",\"21,77\",\"21,39\",\"21,53\",\"21,53\",\"21,22\",\"20,80\",\"21,50\",\"21,14\",\"21,30\",\"21,68\",\"22,06\",\"21,97\",\"22,60\",\"23,90\",\"23,82\",\"23,65\",\"23,20\",\"23,27\",\"23,39\",\"22,80\",\"22,73\",\"22,08\",\"21,59\",\"21,58\",\"21,44\",\"20,91\",\"20,60\",\"20,29\",\"20,12\",\"20,53\",\"20,57\",\"20,53\",\"20,41\",\"20,74\",\"21,10\",\"20,23\",\"19,28\",\"19,42\",\"18,58\",\"18,70\",\"19,02\",\"18,34\",\"19,12\",\"19,47\",\"18,92\",\"18,94\",\"18,75\",\"18,36\",\"18,66\",\"18,10\",\"18,86\",\"19,25\",\"18,90\",\"19,06\",\"17,59\",\"17,54\",\"17,08\",\"16,45\",\"16,31\",\"16,24\",\"16,16\",\"16,60\",\"16,40\",\"15,68\",\"15,52\",\"14,81\",\"14,30\",\"13,98\",\"14,40\",\"14,25\",\"13,80\",\"13,49\",\"14,60\",\"14,26\",\"15,04\",\"14,42\",\"14,60\",\"14,21\",\"14,39\",\"14,11\",\"13,84\",\"12,89\",\"12,35\",\"12,49\",\"12,29\",\"12,07\",\"11,49\",\"11,24\",\"10,87\",\"11,19\",\"11,50\",\"11,22\",\"12,31\",\"12,05\",\"13,20\",\"13,30\",\"12,65\",\"11,19\",\"9,91\",\"9,36\",\"9,05\",\"9,40\",\"9,00\",\"8,50\",\"8,84\",\"8,48\",\"8,19\",\"7,99\",\"8,05\",\"6,95\",\"6,78\",\"7,15\",\"7,49\",\"7,56\",\"6,76\",\"6,43\",\"6,38\",\"6,15\",\"5,71\",\"6,28\",\"6,19\",\"6,42\",\"6,42\",\"6,42\",\"6,22\",\"6,23\",\"6,79\",\"6,84\",\"6,80\"],\"x\":[\"2021-01-04T00:00:00\",\"2021-01-05T00:00:00\",\"2021-01-06T00:00:00\",\"2021-01-07T00:00:00\",\"2021-01-08T00:00:00\",\"2021-01-11T00:00:00\",\"2021-01-12T00:00:00\",\"2021-01-13T00:00:00\",\"2021-01-14T00:00:00\",\"2021-01-15T00:00:00\",\"2021-01-18T00:00:00\",\"2021-01-19T00:00:00\",\"2021-01-20T00:00:00\",\"2021-01-21T00:00:00\",\"2021-01-22T00:00:00\",\"2021-01-26T00:00:00\",\"2021-01-27T00:00:00\",\"2021-01-28T00:00:00\",\"2021-01-29T00:00:00\",\"2021-02-01T00:00:00\",\"2021-02-02T00:00:00\",\"2021-02-03T00:00:00\",\"2021-02-04T00:00:00\",\"2021-02-05T00:00:00\",\"2021-02-08T00:00:00\",\"2021-02-09T00:00:00\",\"2021-02-10T00:00:00\",\"2021-02-11T00:00:00\",\"2021-02-12T00:00:00\",\"2021-02-17T00:00:00\",\"2021-02-18T00:00:00\",\"2021-02-19T00:00:00\",\"2021-02-22T00:00:00\",\"2021-02-23T00:00:00\",\"2021-02-24T00:00:00\",\"2021-02-25T00:00:00\",\"2021-02-26T00:00:00\",\"2021-03-01T00:00:00\",\"2021-03-02T00:00:00\",\"2021-03-03T00:00:00\",\"2021-03-04T00:00:00\",\"2021-03-05T00:00:00\",\"2021-03-08T00:00:00\",\"2021-03-09T00:00:00\",\"2021-03-10T00:00:00\",\"2021-03-11T00:00:00\",\"2021-03-12T00:00:00\",\"2021-03-15T00:00:00\",\"2021-03-16T00:00:00\",\"2021-03-17T00:00:00\",\"2021-03-18T00:00:00\",\"2021-03-19T00:00:00\",\"2021-03-22T00:00:00\",\"2021-03-23T00:00:00\",\"2021-03-24T00:00:00\",\"2021-03-25T00:00:00\",\"2021-03-26T00:00:00\",\"2021-03-29T00:00:00\",\"2021-03-30T00:00:00\",\"2021-03-31T00:00:00\",\"2021-04-01T00:00:00\",\"2021-04-05T00:00:00\",\"2021-04-06T00:00:00\",\"2021-04-07T00:00:00\",\"2021-04-08T00:00:00\",\"2021-04-09T00:00:00\",\"2021-04-12T00:00:00\",\"2021-04-13T00:00:00\",\"2021-04-14T00:00:00\",\"2021-04-15T00:00:00\",\"2021-04-16T00:00:00\",\"2021-04-19T00:00:00\",\"2021-04-20T00:00:00\",\"2021-04-22T00:00:00\",\"2021-04-23T00:00:00\",\"2021-04-26T00:00:00\",\"2021-04-27T00:00:00\",\"2021-04-28T00:00:00\",\"2021-04-29T00:00:00\",\"2021-04-30T00:00:00\",\"2021-05-03T00:00:00\",\"2021-05-04T00:00:00\",\"2021-05-05T00:00:00\",\"2021-05-06T00:00:00\",\"2021-05-07T00:00:00\",\"2021-05-10T00:00:00\",\"2021-05-11T00:00:00\",\"2021-05-12T00:00:00\",\"2021-05-13T00:00:00\",\"2021-05-14T00:00:00\",\"2021-05-17T00:00:00\",\"2021-05-18T00:00:00\",\"2021-05-19T00:00:00\",\"2021-05-20T00:00:00\",\"2021-05-21T00:00:00\",\"2021-05-24T00:00:00\",\"2021-05-25T00:00:00\",\"2021-05-26T00:00:00\",\"2021-05-27T00:00:00\",\"2021-05-28T00:00:00\",\"2021-05-31T00:00:00\",\"2021-06-01T00:00:00\",\"2021-06-02T00:00:00\",\"2021-06-04T00:00:00\",\"2021-06-07T00:00:00\",\"2021-06-08T00:00:00\",\"2021-06-09T00:00:00\",\"2021-06-10T00:00:00\",\"2021-06-11T00:00:00\",\"2021-06-14T00:00:00\",\"2021-06-15T00:00:00\",\"2021-06-16T00:00:00\",\"2021-06-17T00:00:00\",\"2021-06-18T00:00:00\",\"2021-06-21T00:00:00\",\"2021-06-22T00:00:00\",\"2021-06-23T00:00:00\",\"2021-06-24T00:00:00\",\"2021-06-25T00:00:00\",\"2021-06-28T00:00:00\",\"2021-06-29T00:00:00\",\"2021-06-30T00:00:00\",\"2021-07-01T00:00:00\",\"2021-07-02T00:00:00\",\"2021-07-05T00:00:00\",\"2021-07-06T00:00:00\",\"2021-07-07T00:00:00\",\"2021-07-08T00:00:00\",\"2021-07-12T00:00:00\",\"2021-07-13T00:00:00\",\"2021-07-14T00:00:00\",\"2021-07-15T00:00:00\",\"2021-07-16T00:00:00\",\"2021-07-19T00:00:00\",\"2021-07-20T00:00:00\",\"2021-07-21T00:00:00\",\"2021-07-22T00:00:00\",\"2021-07-23T00:00:00\",\"2021-07-26T00:00:00\",\"2021-07-27T00:00:00\",\"2021-07-28T00:00:00\",\"2021-07-29T00:00:00\",\"2021-07-30T00:00:00\",\"2021-08-02T00:00:00\",\"2021-08-03T00:00:00\",\"2021-08-04T00:00:00\",\"2021-08-05T00:00:00\",\"2021-08-06T00:00:00\",\"2021-08-09T00:00:00\",\"2021-08-10T00:00:00\",\"2021-08-11T00:00:00\",\"2021-08-12T00:00:00\",\"2021-08-13T00:00:00\",\"2021-08-16T00:00:00\",\"2021-08-17T00:00:00\",\"2021-08-18T00:00:00\",\"2021-08-19T00:00:00\",\"2021-08-20T00:00:00\",\"2021-08-23T00:00:00\",\"2021-08-24T00:00:00\",\"2021-08-25T00:00:00\",\"2021-08-26T00:00:00\",\"2021-08-27T00:00:00\",\"2021-08-30T00:00:00\",\"2021-08-31T00:00:00\",\"2021-09-01T00:00:00\",\"2021-09-02T00:00:00\",\"2021-09-03T00:00:00\",\"2021-09-06T00:00:00\",\"2021-09-08T00:00:00\",\"2021-09-09T00:00:00\",\"2021-09-10T00:00:00\",\"2021-09-13T00:00:00\",\"2021-09-14T00:00:00\",\"2021-09-15T00:00:00\",\"2021-09-16T00:00:00\",\"2021-09-17T00:00:00\",\"2021-09-20T00:00:00\",\"2021-09-21T00:00:00\",\"2021-09-22T00:00:00\",\"2021-09-23T00:00:00\",\"2021-09-24T00:00:00\",\"2021-09-27T00:00:00\",\"2021-09-28T00:00:00\",\"2021-09-29T00:00:00\",\"2021-09-30T00:00:00\",\"2021-10-01T00:00:00\",\"2021-10-04T00:00:00\",\"2021-10-05T00:00:00\",\"2021-10-06T00:00:00\",\"2021-10-07T00:00:00\",\"2021-10-08T00:00:00\",\"2021-10-11T00:00:00\",\"2021-10-13T00:00:00\",\"2021-10-14T00:00:00\",\"2021-10-15T00:00:00\",\"2021-10-18T00:00:00\",\"2021-10-19T00:00:00\",\"2021-10-20T00:00:00\",\"2021-10-21T00:00:00\",\"2021-10-22T00:00:00\",\"2021-10-25T00:00:00\",\"2021-10-26T00:00:00\",\"2021-10-27T00:00:00\",\"2021-10-28T00:00:00\",\"2021-10-29T00:00:00\",\"2021-11-01T00:00:00\",\"2021-11-03T00:00:00\",\"2021-11-04T00:00:00\",\"2021-11-05T00:00:00\",\"2021-11-08T00:00:00\",\"2021-11-09T00:00:00\",\"2021-11-10T00:00:00\",\"2021-11-11T00:00:00\",\"2021-11-12T00:00:00\",\"2021-11-16T00:00:00\",\"2021-11-17T00:00:00\",\"2021-11-18T00:00:00\",\"2021-11-19T00:00:00\",\"2021-11-22T00:00:00\",\"2021-11-23T00:00:00\",\"2021-11-24T00:00:00\",\"2021-11-25T00:00:00\",\"2021-11-26T00:00:00\",\"2021-11-29T00:00:00\",\"2021-11-30T00:00:00\",\"2021-12-01T00:00:00\",\"2021-12-02T00:00:00\",\"2021-12-03T00:00:00\",\"2021-12-06T00:00:00\",\"2021-12-07T00:00:00\",\"2021-12-08T00:00:00\",\"2021-12-09T00:00:00\",\"2021-12-10T00:00:00\",\"2021-12-13T00:00:00\",\"2021-12-14T00:00:00\",\"2021-12-15T00:00:00\",\"2021-12-16T00:00:00\",\"2021-12-17T00:00:00\",\"2021-12-20T00:00:00\",\"2021-12-21T00:00:00\",\"2021-12-22T00:00:00\",\"2021-12-23T00:00:00\",\"2021-12-27T00:00:00\",\"2021-12-28T00:00:00\",\"2021-12-29T00:00:00\",\"2021-12-30T00:00:00\"],\"type\":\"candlestick\"}],                        {\"template\":{\"data\":{\"bar\":[{\"error_x\":{\"color\":\"#2a3f5f\"},\"error_y\":{\"color\":\"#2a3f5f\"},\"marker\":{\"line\":{\"color\":\"#E5ECF6\",\"width\":0.5},\"pattern\":{\"fillmode\":\"overlay\",\"size\":10,\"solidity\":0.2}},\"type\":\"bar\"}],\"barpolar\":[{\"marker\":{\"line\":{\"color\":\"#E5ECF6\",\"width\":0.5},\"pattern\":{\"fillmode\":\"overlay\",\"size\":10,\"solidity\":0.2}},\"type\":\"barpolar\"}],\"carpet\":[{\"aaxis\":{\"endlinecolor\":\"#2a3f5f\",\"gridcolor\":\"white\",\"linecolor\":\"white\",\"minorgridcolor\":\"white\",\"startlinecolor\":\"#2a3f5f\"},\"baxis\":{\"endlinecolor\":\"#2a3f5f\",\"gridcolor\":\"white\",\"linecolor\":\"white\",\"minorgridcolor\":\"white\",\"startlinecolor\":\"#2a3f5f\"},\"type\":\"carpet\"}],\"choropleth\":[{\"colorbar\":{\"outlinewidth\":0,\"ticks\":\"\"},\"type\":\"choropleth\"}],\"contour\":[{\"colorbar\":{\"outlinewidth\":0,\"ticks\":\"\"},\"colorscale\":[[0.0,\"#0d0887\"],[0.1111111111111111,\"#46039f\"],[0.2222222222222222,\"#7201a8\"],[0.3333333333333333,\"#9c179e\"],[0.4444444444444444,\"#bd3786\"],[0.5555555555555556,\"#d8576b\"],[0.6666666666666666,\"#ed7953\"],[0.7777777777777778,\"#fb9f3a\"],[0.8888888888888888,\"#fdca26\"],[1.0,\"#f0f921\"]],\"type\":\"contour\"}],\"contourcarpet\":[{\"colorbar\":{\"outlinewidth\":0,\"ticks\":\"\"},\"type\":\"contourcarpet\"}],\"heatmap\":[{\"colorbar\":{\"outlinewidth\":0,\"ticks\":\"\"},\"colorscale\":[[0.0,\"#0d0887\"],[0.1111111111111111,\"#46039f\"],[0.2222222222222222,\"#7201a8\"],[0.3333333333333333,\"#9c179e\"],[0.4444444444444444,\"#bd3786\"],[0.5555555555555556,\"#d8576b\"],[0.6666666666666666,\"#ed7953\"],[0.7777777777777778,\"#fb9f3a\"],[0.8888888888888888,\"#fdca26\"],[1.0,\"#f0f921\"]],\"type\":\"heatmap\"}],\"heatmapgl\":[{\"colorbar\":{\"outlinewidth\":0,\"ticks\":\"\"},\"colorscale\":[[0.0,\"#0d0887\"],[0.1111111111111111,\"#46039f\"],[0.2222222222222222,\"#7201a8\"],[0.3333333333333333,\"#9c179e\"],[0.4444444444444444,\"#bd3786\"],[0.5555555555555556,\"#d8576b\"],[0.6666666666666666,\"#ed7953\"],[0.7777777777777778,\"#fb9f3a\"],[0.8888888888888888,\"#fdca26\"],[1.0,\"#f0f921\"]],\"type\":\"heatmapgl\"}],\"histogram\":[{\"marker\":{\"pattern\":{\"fillmode\":\"overlay\",\"size\":10,\"solidity\":0.2}},\"type\":\"histogram\"}],\"histogram2d\":[{\"colorbar\":{\"outlinewidth\":0,\"ticks\":\"\"},\"colorscale\":[[0.0,\"#0d0887\"],[0.1111111111111111,\"#46039f\"],[0.2222222222222222,\"#7201a8\"],[0.3333333333333333,\"#9c179e\"],[0.4444444444444444,\"#bd3786\"],[0.5555555555555556,\"#d8576b\"],[0.6666666666666666,\"#ed7953\"],[0.7777777777777778,\"#fb9f3a\"],[0.8888888888888888,\"#fdca26\"],[1.0,\"#f0f921\"]],\"type\":\"histogram2d\"}],\"histogram2dcontour\":[{\"colorbar\":{\"outlinewidth\":0,\"ticks\":\"\"},\"colorscale\":[[0.0,\"#0d0887\"],[0.1111111111111111,\"#46039f\"],[0.2222222222222222,\"#7201a8\"],[0.3333333333333333,\"#9c179e\"],[0.4444444444444444,\"#bd3786\"],[0.5555555555555556,\"#d8576b\"],[0.6666666666666666,\"#ed7953\"],[0.7777777777777778,\"#fb9f3a\"],[0.8888888888888888,\"#fdca26\"],[1.0,\"#f0f921\"]],\"type\":\"histogram2dcontour\"}],\"mesh3d\":[{\"colorbar\":{\"outlinewidth\":0,\"ticks\":\"\"},\"type\":\"mesh3d\"}],\"parcoords\":[{\"line\":{\"colorbar\":{\"outlinewidth\":0,\"ticks\":\"\"}},\"type\":\"parcoords\"}],\"pie\":[{\"automargin\":true,\"type\":\"pie\"}],\"scatter\":[{\"marker\":{\"colorbar\":{\"outlinewidth\":0,\"ticks\":\"\"}},\"type\":\"scatter\"}],\"scatter3d\":[{\"line\":{\"colorbar\":{\"outlinewidth\":0,\"ticks\":\"\"}},\"marker\":{\"colorbar\":{\"outlinewidth\":0,\"ticks\":\"\"}},\"type\":\"scatter3d\"}],\"scattercarpet\":[{\"marker\":{\"colorbar\":{\"outlinewidth\":0,\"ticks\":\"\"}},\"type\":\"scattercarpet\"}],\"scattergeo\":[{\"marker\":{\"colorbar\":{\"outlinewidth\":0,\"ticks\":\"\"}},\"type\":\"scattergeo\"}],\"scattergl\":[{\"marker\":{\"colorbar\":{\"outlinewidth\":0,\"ticks\":\"\"}},\"type\":\"scattergl\"}],\"scattermapbox\":[{\"marker\":{\"colorbar\":{\"outlinewidth\":0,\"ticks\":\"\"}},\"type\":\"scattermapbox\"}],\"scatterpolar\":[{\"marker\":{\"colorbar\":{\"outlinewidth\":0,\"ticks\":\"\"}},\"type\":\"scatterpolar\"}],\"scatterpolargl\":[{\"marker\":{\"colorbar\":{\"outlinewidth\":0,\"ticks\":\"\"}},\"type\":\"scatterpolargl\"}],\"scatterternary\":[{\"marker\":{\"colorbar\":{\"outlinewidth\":0,\"ticks\":\"\"}},\"type\":\"scatterternary\"}],\"surface\":[{\"colorbar\":{\"outlinewidth\":0,\"ticks\":\"\"},\"colorscale\":[[0.0,\"#0d0887\"],[0.1111111111111111,\"#46039f\"],[0.2222222222222222,\"#7201a8\"],[0.3333333333333333,\"#9c179e\"],[0.4444444444444444,\"#bd3786\"],[0.5555555555555556,\"#d8576b\"],[0.6666666666666666,\"#ed7953\"],[0.7777777777777778,\"#fb9f3a\"],[0.8888888888888888,\"#fdca26\"],[1.0,\"#f0f921\"]],\"type\":\"surface\"}],\"table\":[{\"cells\":{\"fill\":{\"color\":\"#EBF0F8\"},\"line\":{\"color\":\"white\"}},\"header\":{\"fill\":{\"color\":\"#C8D4E3\"},\"line\":{\"color\":\"white\"}},\"type\":\"table\"}]},\"layout\":{\"annotationdefaults\":{\"arrowcolor\":\"#2a3f5f\",\"arrowhead\":0,\"arrowwidth\":1},\"autotypenumbers\":\"strict\",\"coloraxis\":{\"colorbar\":{\"outlinewidth\":0,\"ticks\":\"\"}},\"colorscale\":{\"diverging\":[[0,\"#8e0152\"],[0.1,\"#c51b7d\"],[0.2,\"#de77ae\"],[0.3,\"#f1b6da\"],[0.4,\"#fde0ef\"],[0.5,\"#f7f7f7\"],[0.6,\"#e6f5d0\"],[0.7,\"#b8e186\"],[0.8,\"#7fbc41\"],[0.9,\"#4d9221\"],[1,\"#276419\"]],\"sequential\":[[0.0,\"#0d0887\"],[0.1111111111111111,\"#46039f\"],[0.2222222222222222,\"#7201a8\"],[0.3333333333333333,\"#9c179e\"],[0.4444444444444444,\"#bd3786\"],[0.5555555555555556,\"#d8576b\"],[0.6666666666666666,\"#ed7953\"],[0.7777777777777778,\"#fb9f3a\"],[0.8888888888888888,\"#fdca26\"],[1.0,\"#f0f921\"]],\"sequentialminus\":[[0.0,\"#0d0887\"],[0.1111111111111111,\"#46039f\"],[0.2222222222222222,\"#7201a8\"],[0.3333333333333333,\"#9c179e\"],[0.4444444444444444,\"#bd3786\"],[0.5555555555555556,\"#d8576b\"],[0.6666666666666666,\"#ed7953\"],[0.7777777777777778,\"#fb9f3a\"],[0.8888888888888888,\"#fdca26\"],[1.0,\"#f0f921\"]]},\"colorway\":[\"#636efa\",\"#EF553B\",\"#00cc96\",\"#ab63fa\",\"#FFA15A\",\"#19d3f3\",\"#FF6692\",\"#B6E880\",\"#FF97FF\",\"#FECB52\"],\"font\":{\"color\":\"#2a3f5f\"},\"geo\":{\"bgcolor\":\"white\",\"lakecolor\":\"white\",\"landcolor\":\"#E5ECF6\",\"showlakes\":true,\"showland\":true,\"subunitcolor\":\"white\"},\"hoverlabel\":{\"align\":\"left\"},\"hovermode\":\"closest\",\"mapbox\":{\"style\":\"light\"},\"paper_bgcolor\":\"white\",\"plot_bgcolor\":\"#E5ECF6\",\"polar\":{\"angularaxis\":{\"gridcolor\":\"white\",\"linecolor\":\"white\",\"ticks\":\"\"},\"bgcolor\":\"#E5ECF6\",\"radialaxis\":{\"gridcolor\":\"white\",\"linecolor\":\"white\",\"ticks\":\"\"}},\"scene\":{\"xaxis\":{\"backgroundcolor\":\"#E5ECF6\",\"gridcolor\":\"white\",\"gridwidth\":2,\"linecolor\":\"white\",\"showbackground\":true,\"ticks\":\"\",\"zerolinecolor\":\"white\"},\"yaxis\":{\"backgroundcolor\":\"#E5ECF6\",\"gridcolor\":\"white\",\"gridwidth\":2,\"linecolor\":\"white\",\"showbackground\":true,\"ticks\":\"\",\"zerolinecolor\":\"white\"},\"zaxis\":{\"backgroundcolor\":\"#E5ECF6\",\"gridcolor\":\"white\",\"gridwidth\":2,\"linecolor\":\"white\",\"showbackground\":true,\"ticks\":\"\",\"zerolinecolor\":\"white\"}},\"shapedefaults\":{\"line\":{\"color\":\"#2a3f5f\"}},\"ternary\":{\"aaxis\":{\"gridcolor\":\"white\",\"linecolor\":\"white\",\"ticks\":\"\"},\"baxis\":{\"gridcolor\":\"white\",\"linecolor\":\"white\",\"ticks\":\"\"},\"bgcolor\":\"#E5ECF6\",\"caxis\":{\"gridcolor\":\"white\",\"linecolor\":\"white\",\"ticks\":\"\"}},\"title\":{\"x\":0.05},\"xaxis\":{\"automargin\":true,\"gridcolor\":\"white\",\"linecolor\":\"white\",\"ticks\":\"\",\"title\":{\"standoff\":15},\"zerolinecolor\":\"white\",\"zerolinewidth\":2},\"yaxis\":{\"automargin\":true,\"gridcolor\":\"white\",\"linecolor\":\"white\",\"ticks\":\"\",\"title\":{\"standoff\":15},\"zerolinecolor\":\"white\",\"zerolinewidth\":2}}},\"xaxis\":{\"rangeslider\":{\"visible\":false}}},                        {\"responsive\": true}                    ).then(function(){\n",
              "                            \n",
              "var gd = document.getElementById('823bc744-8240-4515-9fff-e3faf0706084');\n",
              "var x = new MutationObserver(function (mutations, observer) {{\n",
              "        var display = window.getComputedStyle(gd).display;\n",
              "        if (!display || display === 'none') {{\n",
              "            console.log([gd, 'removed!']);\n",
              "            Plotly.purge(gd);\n",
              "            observer.disconnect();\n",
              "        }}\n",
              "}});\n",
              "\n",
              "// Listen for the removal of the full notebook cells\n",
              "var notebookContainer = gd.closest('#notebook-container');\n",
              "if (notebookContainer) {{\n",
              "    x.observe(notebookContainer, {childList: true});\n",
              "}}\n",
              "\n",
              "// Listen for the clearing of the current output cell\n",
              "var outputEl = gd.closest('.output');\n",
              "if (outputEl) {{\n",
              "    x.observe(outputEl, {childList: true});\n",
              "}}\n",
              "\n",
              "                        })                };                            </script>        </div>\n",
              "</body>\n",
              "</html>"
            ]
          },
          "metadata": {}
        }
      ]
    },
    {
      "cell_type": "code",
      "source": [
        ""
      ],
      "metadata": {
        "id": "T6ePn-ZaVKFa"
      },
      "execution_count": null,
      "outputs": []
    },
    {
      "cell_type": "code",
      "source": [
        ""
      ],
      "metadata": {
        "id": "96s5RMlcVKH1"
      },
      "execution_count": null,
      "outputs": []
    },
    {
      "cell_type": "code",
      "source": [
        ""
      ],
      "metadata": {
        "id": "ZnaNM7pUVKJ6"
      },
      "execution_count": null,
      "outputs": []
    },
    {
      "cell_type": "code",
      "source": [
        ""
      ],
      "metadata": {
        "id": "7-3ltOXRVKMO"
      },
      "execution_count": null,
      "outputs": []
    },
    {
      "cell_type": "code",
      "source": [
        ""
      ],
      "metadata": {
        "id": "0r3eEJIgVKOK"
      },
      "execution_count": null,
      "outputs": []
    }
  ]
}